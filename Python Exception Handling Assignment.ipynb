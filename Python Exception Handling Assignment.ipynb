{
 "cells": [
  {
   "cell_type": "markdown",
   "metadata": {},
   "source": [
    "# Question 1:\n",
    "Write a function to compute 5/0 and use try/except to catch the exceptions."
   ]
  },
  {
   "cell_type": "code",
   "execution_count": 1,
   "metadata": {},
   "outputs": [],
   "source": [
    "def divide_by_zero():\n",
    "    try:\n",
    "        ans=5/0\n",
    "    except ZeroDivisionError as ze:\n",
    "        print(\"Error \" + str(ze) + \" in divide_by_zero function\")\n",
    "    except Exception as e:\n",
    "        print(\"Exception in divide_by_zero function\")\n",
    "        print(e.__doc__)\n",
    "    else:\n",
    "        print(\"Division complete\")\n",
    "        return ans\n",
    "    finally:\n",
    "        print(\"Executing finally clause\")\n",
    "        "
   ]
  },
  {
   "cell_type": "code",
   "execution_count": 2,
   "metadata": {},
   "outputs": [
    {
     "name": "stdout",
     "output_type": "stream",
     "text": [
      "Error division by zero in divide_by_zero function\n",
      "Executing finally clause\n"
     ]
    }
   ],
   "source": [
    "divide_by_zero()"
   ]
  },
  {
   "cell_type": "markdown",
   "metadata": {},
   "source": [
    "# Question 2:\n",
    "Implement a Python program to generate all sentences where subject is in [\"Americans\", \"Indians\"] and verb is in [\"Play\", \"watch\"] and the object is in [\"Baseball\",\"cricket\"].\n",
    "\n",
    "Output should come as below:\n",
    "\n",
    "Americans play Baseball.\n",
    "\n",
    "Americans play Cricket.\n",
    "\n",
    "Americans watch Baseball.\n",
    "\n",
    "Americans watch Cricket.\n",
    "\n",
    "Indians play Baseball.\n",
    "\n",
    "Indians play Cricket.\n",
    "\n",
    "Indians watch Baseball.\n",
    "\n",
    "Indians watch Cricket."
   ]
  },
  {
   "cell_type": "code",
   "execution_count": 3,
   "metadata": {},
   "outputs": [],
   "source": [
    "# Function to generate sentences using for loop\n",
    "def sentence_generator(subjects,verbs,objects):\n",
    "    try:\n",
    "        sentence = []\n",
    "        for i in subjects:\n",
    "            for j in verbs:\n",
    "                for k in objects:\n",
    "                    sentence.append(i + \" \" + j + \" \" + k + \".\")\n",
    "    except Exception as e:\n",
    "        print(\"Exception in sentence_generator function\")\n",
    "        print(e.__doc__)\n",
    "    else:\n",
    "        return sentence\n",
    "    finally:\n",
    "        print(\"Executing finally clause\")\n",
    "\n",
    "# Function to generate sentences using list comprehension\n",
    "def sentence_generator_comp(subjects,verbs,objects):\n",
    "    return [i + \" \" + j + \" \" + k + \".\" for i in subjects for j in verbs for k in objects]\n",
    "\n",
    "# Function to display the sentences\n",
    "def display_sentences(sentence):\n",
    "    for i in sentence:\n",
    "        print(i)"
   ]
  },
  {
   "cell_type": "code",
   "execution_count": 4,
   "metadata": {},
   "outputs": [
    {
     "name": "stdout",
     "output_type": "stream",
     "text": [
      "Executing finally clause\n",
      "Americans play Baseball.\n",
      "Americans play Cricket.\n",
      "Americans watch Baseball.\n",
      "Americans watch Cricket.\n",
      "Indians play Baseball.\n",
      "Indians play Cricket.\n",
      "Indians watch Baseball.\n",
      "Indians watch Cricket.\n",
      "-------------------------\n",
      "Americans play Baseball.\n",
      "Americans play Cricket.\n",
      "Americans watch Baseball.\n",
      "Americans watch Cricket.\n",
      "Indians play Baseball.\n",
      "Indians play Cricket.\n",
      "Indians watch Baseball.\n",
      "Indians watch Cricket.\n"
     ]
    }
   ],
   "source": [
    "subjects=[\"Americans\",\"Indians\"]\n",
    "verbs=[\"play\",\"watch\"]\n",
    "objects=[\"Baseball\",\"Cricket\"]\n",
    "# calling the function to generate sentences using for loop\n",
    "display_sentences(sentence_generator(subjects,verbs,objects))\n",
    "print(\"-\"*25)\n",
    "# calling the function to generate sentences using list comprehension\n",
    "display_sentences(sentence_generator_comp(subjects,verbs,objects))"
   ]
  }
 ],
 "metadata": {
  "kernelspec": {
   "display_name": "Python 3",
   "language": "python",
   "name": "python3"
  },
  "language_info": {
   "codemirror_mode": {
    "name": "ipython",
    "version": 3
   },
   "file_extension": ".py",
   "mimetype": "text/x-python",
   "name": "python",
   "nbconvert_exporter": "python",
   "pygments_lexer": "ipython3",
   "version": "3.7.4"
  }
 },
 "nbformat": 4,
 "nbformat_minor": 2
}
